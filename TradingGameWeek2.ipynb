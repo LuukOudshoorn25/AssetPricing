{
 "cells": [
  {
   "cell_type": "code",
   "execution_count": 1,
   "metadata": {},
   "outputs": [],
   "source": [
    "import ffn \n",
    "from empyrical import alpha_beta\n",
    "#from pypfopt.efficient_frontier import EfficientFrontier\n",
    "#from pypfopt import risk_models\n",
    "#from pypfopt import expected_returns\n",
    "#from pypfopt import discrete_allocation\n",
    "#from pypfopt import plotting\n",
    "import matplotlib.pyplot as plt\n",
    "from scipy.optimize import minimize\n",
    "import numpy as np\n",
    "import pandas as pd"
   ]
  },
  {
   "cell_type": "code",
   "execution_count": 2,
   "metadata": {},
   "outputs": [],
   "source": [
    "df_INFO   = pd.read_excel('./Trades_Updated_0309.xlsx',sheet_name='INFO')"
   ]
  },
  {
   "cell_type": "code",
   "execution_count": 3,
   "metadata": {},
   "outputs": [],
   "source": [
    "df_PRICES = pd.read_excel('./Trades_Updated_0309.xlsx',sheet_name='PRICES')\n",
    "colnames  = df_PRICES.columns.values\n",
    "colnames[0] = 'Date'\n",
    "df_PRICES.columns = colnames\n",
    "df_SIZES  = pd.read_excel('./Trades_Updated_0309.xlsx',sheet_name='SIZE')\n",
    "colnames  = df_SIZES.columns.values\n",
    "colnames[0] = 'Date'\n",
    "df_SIZES.columns = colnames\n",
    "df_PtB    = pd.read_excel('./Trades_Updated_0309.xlsx',sheet_name='PRICE TO BOOK')\n",
    "colnames  = df_PtB.columns.values\n",
    "colnames[0] = 'Date'\n",
    "df_PtB.columns = colnames\n",
    "\n",
    "df_PRICES['Date'] = pd.to_datetime(df_PRICES['Date'])\n",
    "df_SIZES['Date']  = pd.to_datetime(df_SIZES['Date'])\n",
    "df_PtB['Date']    = pd.to_datetime(df_PtB['Date'])\n",
    "\n",
    "df_PRICES = df_PRICES.set_index('Date')\n",
    "df_SIZES = df_SIZES.set_index('Date')\n",
    "df_PtB = df_PtB.set_index('Date')"
   ]
  },
  {
   "cell_type": "code",
   "execution_count": 4,
   "metadata": {},
   "outputs": [
    {
     "data": {
      "text/html": [
       "<div>\n",
       "<style scoped>\n",
       "    .dataframe tbody tr th:only-of-type {\n",
       "        vertical-align: middle;\n",
       "    }\n",
       "\n",
       "    .dataframe tbody tr th {\n",
       "        vertical-align: top;\n",
       "    }\n",
       "\n",
       "    .dataframe thead th {\n",
       "        text-align: right;\n",
       "    }\n",
       "</style>\n",
       "<table border=\"1\" class=\"dataframe\">\n",
       "  <thead>\n",
       "    <tr style=\"text-align: right;\">\n",
       "      <th></th>\n",
       "      <th>BT.A-GB</th>\n",
       "      <th>CCL-GB</th>\n",
       "      <th>MKS-GB</th>\n",
       "      <th>BARC-GB</th>\n",
       "      <th>ITRK-GB</th>\n",
       "      <th>BRBY-GB</th>\n",
       "    </tr>\n",
       "    <tr>\n",
       "      <th>Date</th>\n",
       "      <th></th>\n",
       "      <th></th>\n",
       "      <th></th>\n",
       "      <th></th>\n",
       "      <th></th>\n",
       "      <th></th>\n",
       "    </tr>\n",
       "  </thead>\n",
       "  <tbody>\n",
       "    <tr>\n",
       "      <th>2018-12-31</th>\n",
       "      <td>100.00000</td>\n",
       "      <td>100.000000</td>\n",
       "      <td>100.00000</td>\n",
       "      <td>100.00000</td>\n",
       "      <td>100.000000</td>\n",
       "      <td>100.00000</td>\n",
       "    </tr>\n",
       "    <tr>\n",
       "      <th>2019-01-02</th>\n",
       "      <td>100.41382</td>\n",
       "      <td>101.683780</td>\n",
       "      <td>99.94125</td>\n",
       "      <td>99.72475</td>\n",
       "      <td>99.971680</td>\n",
       "      <td>99.04486</td>\n",
       "    </tr>\n",
       "    <tr>\n",
       "      <th>2019-01-03</th>\n",
       "      <td>100.11307</td>\n",
       "      <td>98.434883</td>\n",
       "      <td>100.88558</td>\n",
       "      <td>99.10764</td>\n",
       "      <td>95.307976</td>\n",
       "      <td>92.87219</td>\n",
       "    </tr>\n",
       "  </tbody>\n",
       "</table>\n",
       "</div>"
      ],
      "text/plain": [
       "              BT.A-GB      CCL-GB     MKS-GB    BARC-GB     ITRK-GB    BRBY-GB\n",
       "Date                                                                          \n",
       "2018-12-31  100.00000  100.000000  100.00000  100.00000  100.000000  100.00000\n",
       "2019-01-02  100.41382  101.683780   99.94125   99.72475   99.971680   99.04486\n",
       "2019-01-03  100.11307   98.434883  100.88558   99.10764   95.307976   92.87219"
      ]
     },
     "execution_count": 4,
     "metadata": {},
     "output_type": "execute_result"
    }
   ],
   "source": [
    "# example\n",
    "df_PRICES.iloc[:3,:6]"
   ]
  },
  {
   "cell_type": "code",
   "execution_count": 5,
   "metadata": {},
   "outputs": [
    {
     "data": {
      "text/html": [
       "<div>\n",
       "<style scoped>\n",
       "    .dataframe tbody tr th:only-of-type {\n",
       "        vertical-align: middle;\n",
       "    }\n",
       "\n",
       "    .dataframe tbody tr th {\n",
       "        vertical-align: top;\n",
       "    }\n",
       "\n",
       "    .dataframe thead th {\n",
       "        text-align: right;\n",
       "    }\n",
       "</style>\n",
       "<table border=\"1\" class=\"dataframe\">\n",
       "  <thead>\n",
       "    <tr style=\"text-align: right;\">\n",
       "      <th></th>\n",
       "      <th>BT.A-GB</th>\n",
       "      <th>CCL-GB</th>\n",
       "      <th>MKS-GB</th>\n",
       "      <th>BARC-GB</th>\n",
       "      <th>ITRK-GB</th>\n",
       "      <th>BRBY-GB</th>\n",
       "    </tr>\n",
       "    <tr>\n",
       "      <th>Date</th>\n",
       "      <th></th>\n",
       "      <th></th>\n",
       "      <th></th>\n",
       "      <th></th>\n",
       "      <th></th>\n",
       "      <th></th>\n",
       "    </tr>\n",
       "  </thead>\n",
       "  <tbody>\n",
       "    <tr>\n",
       "      <th>2019-01-02</th>\n",
       "      <td>0.004130</td>\n",
       "      <td>0.016698</td>\n",
       "      <td>-0.000588</td>\n",
       "      <td>-0.002756</td>\n",
       "      <td>-0.000283</td>\n",
       "      <td>-0.009597</td>\n",
       "    </tr>\n",
       "    <tr>\n",
       "      <th>2019-01-03</th>\n",
       "      <td>-0.003000</td>\n",
       "      <td>-0.032473</td>\n",
       "      <td>0.009404</td>\n",
       "      <td>-0.006207</td>\n",
       "      <td>-0.047773</td>\n",
       "      <td>-0.064349</td>\n",
       "    </tr>\n",
       "    <tr>\n",
       "      <th>2019-01-04</th>\n",
       "      <td>-0.003616</td>\n",
       "      <td>0.028332</td>\n",
       "      <td>0.015439</td>\n",
       "      <td>0.039607</td>\n",
       "      <td>0.054749</td>\n",
       "      <td>0.052771</td>\n",
       "    </tr>\n",
       "  </tbody>\n",
       "</table>\n",
       "</div>"
      ],
      "text/plain": [
       "             BT.A-GB    CCL-GB    MKS-GB   BARC-GB   ITRK-GB   BRBY-GB\n",
       "Date                                                                  \n",
       "2019-01-02  0.004130  0.016698 -0.000588 -0.002756 -0.000283 -0.009597\n",
       "2019-01-03 -0.003000 -0.032473  0.009404 -0.006207 -0.047773 -0.064349\n",
       "2019-01-04 -0.003616  0.028332  0.015439  0.039607  0.054749  0.052771"
      ]
     },
     "execution_count": 5,
     "metadata": {},
     "output_type": "execute_result"
    }
   ],
   "source": [
    "# Step 1: Convert prices into returns\n",
    "Returns = np.log(df_PRICES / np.roll(df_PRICES.values,1,axis=0))\n",
    "Returns = Returns.iloc[1:]\n",
    "Returns.iloc[:3,:6]"
   ]
  },
  {
   "cell_type": "code",
   "execution_count": 196,
   "metadata": {},
   "outputs": [],
   "source": [
    "# Look at two factors: momentum and price to book\n",
    "\n",
    "# Momentum over last T days...\n",
    "T = 30\n",
    "momentum = Returns.iloc[-T:].mean(axis=0)\n",
    "momentum_deciles, bins = pd.qcut(momentum, q = np.arange(0,1.01,0.2), retbins=True)"
   ]
  },
  {
   "cell_type": "code",
   "execution_count": 197,
   "metadata": {},
   "outputs": [],
   "source": [
    "bincenters = np.round(((np.roll(bins,-1) + bins)/2)[:-1],4)\n",
    "momentum_deciles = momentum_deciles.apply(lambda x: np.argmin(np.abs(x.mid - bincenters))+1)"
   ]
  },
  {
   "cell_type": "code",
   "execution_count": 198,
   "metadata": {},
   "outputs": [],
   "source": [
    "# Book to market\n",
    "BtM = df_PtB.iloc[-T:].mean(axis=0).apply(lambda x: 1/x)\n",
    "BtM_deciles, bins = pd.qcut(BtM, q = np.arange(0,1.01,0.2), retbins=True)\n",
    "bincenters = np.round(((np.roll(bins,-1) + bins)/2)[:-1],4)\n",
    "BtM_deciles = BtM_deciles.apply(lambda x: np.argmin(np.abs(x.mid - bincenters))+1)\n",
    "# Sizes\n",
    "sizes = df_SIZES.iloc[-T:].mean(axis=0)\n",
    "size_deciles, bins = pd.qcut(sizes, q = np.arange(0,1.01,0.2), retbins=True)\n",
    "bincenters = np.round(((np.roll(bins,-1) + bins)/2)[:-1],4)\n",
    "size_deciles = size_deciles.apply(lambda x: np.argmin(np.abs(x.mid - bincenters))+1)"
   ]
  },
  {
   "cell_type": "code",
   "execution_count": 199,
   "metadata": {},
   "outputs": [
    {
     "data": {
      "text/html": [
       "<div>\n",
       "<style scoped>\n",
       "    .dataframe tbody tr th:only-of-type {\n",
       "        vertical-align: middle;\n",
       "    }\n",
       "\n",
       "    .dataframe tbody tr th {\n",
       "        vertical-align: top;\n",
       "    }\n",
       "\n",
       "    .dataframe thead th {\n",
       "        text-align: right;\n",
       "    }\n",
       "</style>\n",
       "<table border=\"1\" class=\"dataframe\">\n",
       "  <thead>\n",
       "    <tr style=\"text-align: right;\">\n",
       "      <th>Sizes</th>\n",
       "      <th>1</th>\n",
       "      <th>2</th>\n",
       "      <th>3</th>\n",
       "      <th>4</th>\n",
       "      <th>5</th>\n",
       "    </tr>\n",
       "    <tr>\n",
       "      <th>BtM</th>\n",
       "      <th></th>\n",
       "      <th></th>\n",
       "      <th></th>\n",
       "      <th></th>\n",
       "      <th></th>\n",
       "    </tr>\n",
       "  </thead>\n",
       "  <tbody>\n",
       "    <tr>\n",
       "      <th>1</th>\n",
       "      <td>0.000600</td>\n",
       "      <td>0.000769</td>\n",
       "      <td>-0.000845</td>\n",
       "      <td>-0.000119</td>\n",
       "      <td>-0.000257</td>\n",
       "    </tr>\n",
       "    <tr>\n",
       "      <th>2</th>\n",
       "      <td>0.000652</td>\n",
       "      <td>0.000959</td>\n",
       "      <td>-0.000048</td>\n",
       "      <td>-0.000614</td>\n",
       "      <td>-0.000803</td>\n",
       "    </tr>\n",
       "    <tr>\n",
       "      <th>3</th>\n",
       "      <td>0.000389</td>\n",
       "      <td>-0.000445</td>\n",
       "      <td>0.000141</td>\n",
       "      <td>-0.000004</td>\n",
       "      <td>-0.000218</td>\n",
       "    </tr>\n",
       "    <tr>\n",
       "      <th>4</th>\n",
       "      <td>0.000794</td>\n",
       "      <td>0.000563</td>\n",
       "      <td>0.000995</td>\n",
       "      <td>-0.000603</td>\n",
       "      <td>-0.001298</td>\n",
       "    </tr>\n",
       "    <tr>\n",
       "      <th>5</th>\n",
       "      <td>-0.000111</td>\n",
       "      <td>-0.000410</td>\n",
       "      <td>0.000067</td>\n",
       "      <td>-0.002574</td>\n",
       "      <td>-0.001163</td>\n",
       "    </tr>\n",
       "  </tbody>\n",
       "</table>\n",
       "</div>"
      ],
      "text/plain": [
       "Sizes         1         2         3         4         5\n",
       "BtM                                                    \n",
       "1      0.000600  0.000769 -0.000845 -0.000119 -0.000257\n",
       "2      0.000652  0.000959 -0.000048 -0.000614 -0.000803\n",
       "3      0.000389 -0.000445  0.000141 -0.000004 -0.000218\n",
       "4      0.000794  0.000563  0.000995 -0.000603 -0.001298\n",
       "5     -0.000111 -0.000410  0.000067 -0.002574 -0.001163"
      ]
     },
     "execution_count": 199,
     "metadata": {},
     "output_type": "execute_result"
    }
   ],
   "source": [
    "a = pd.DataFrame({'Momentum':momentum_deciles})\n",
    "b = pd.DataFrame({'BtM':BtM_deciles})\n",
    "c = pd.DataFrame({'Sizes':size_deciles})\n",
    "d = pd.merge(a,b, left_index=True, right_index=True)\n",
    "d = pd.merge(d,c, left_index=True, right_index=True)\n",
    "d['AvgRet'] = momentum\n",
    "d.groupby(['BtM','Sizes'])['AvgRet'].mean().unstack()"
   ]
  },
  {
   "cell_type": "code",
   "execution_count": 200,
   "metadata": {},
   "outputs": [
    {
     "data": {
      "image/png": "[encoded data removed]",
      "text/plain": [
       "<Figure size 432x288 with 2 Axes>"
      ]
     },
     "metadata": {
      "needs_background": "light"
     },
     "output_type": "display_data"
    }
   ],
   "source": [
    "import numpy as np; np.random.seed(0)\n",
    "import seaborn as sns\n",
    "uniform_data = np.random.rand(10, 12)\n",
    "ax = sns.heatmap(d.groupby(['Sizes','Momentum'])['AvgRet'].mean().unstack(),cmap='plasma')"
   ]
  },
  {
   "cell_type": "code",
   "execution_count": null,
   "metadata": {},
   "outputs": [],
   "source": [
    "stocks2 = d.reset_index().set_index(['Sizes','Momentum']).loc[1,5]"
   ]
  },
  {
   "cell_type": "code",
   "execution_count": 217,
   "metadata": {},
   "outputs": [
    {
     "data": {
      "text/plain": [
       "13"
      ]
     },
     "execution_count": 217,
     "metadata": {},
     "output_type": "execute_result"
    }
   ],
   "source": [
    "len(np.intersect1d(stocks2['index'].unique(),stocks1['index'].unique()))"
   ]
  },
  {
   "cell_type": "code",
   "execution_count": 216,
   "metadata": {
    "scrolled": false
   },
   "outputs": [
    {
     "data": {
      "text/plain": [
       "19"
      ]
     },
     "execution_count": 216,
     "metadata": {},
     "output_type": "execute_result"
    }
   ],
   "source": [
    "len(np.setdiff1d(stocks2['index'].unique(),stocks1['index'].unique()))"
   ]
  },
  {
   "cell_type": "code",
   "execution_count": null,
   "metadata": {},
   "outputs": [],
   "source": []
  },
  {
   "cell_type": "code",
   "execution_count": null,
   "metadata": {},
   "outputs": [],
   "source": []
  },
  {
   "cell_type": "code",
   "execution_count": null,
   "metadata": {},
   "outputs": [],
   "source": []
  },
  {
   "cell_type": "code",
   "execution_count": null,
   "metadata": {},
   "outputs": [],
   "source": []
  },
  {
   "cell_type": "code",
   "execution_count": null,
   "metadata": {},
   "outputs": [],
   "source": []
  },
  {
   "cell_type": "code",
   "execution_count": null,
   "metadata": {},
   "outputs": [],
   "source": []
  },
  {
   "cell_type": "code",
   "execution_count": null,
   "metadata": {},
   "outputs": [],
   "source": []
  },
  {
   "cell_type": "code",
   "execution_count": null,
   "metadata": {},
   "outputs": [],
   "source": []
  },
  {
   "cell_type": "code",
   "execution_count": null,
   "metadata": {},
   "outputs": [],
   "source": []
  },
  {
   "cell_type": "code",
   "execution_count": null,
   "metadata": {},
   "outputs": [],
   "source": []
  },
  {
   "cell_type": "code",
   "execution_count": null,
   "metadata": {},
   "outputs": [],
   "source": []
  },
  {
   "cell_type": "code",
   "execution_count": null,
   "metadata": {},
   "outputs": [],
   "source": []
  },
  {
   "cell_type": "code",
   "execution_count": null,
   "metadata": {},
   "outputs": [],
   "source": []
  },
  {
   "cell_type": "code",
   "execution_count": null,
   "metadata": {},
   "outputs": [],
   "source": []
  },
  {
   "cell_type": "code",
   "execution_count": null,
   "metadata": {},
   "outputs": [],
   "source": []
  },
  {
   "cell_type": "code",
   "execution_count": null,
   "metadata": {},
   "outputs": [],
   "source": []
  },
  {
   "cell_type": "code",
   "execution_count": null,
   "metadata": {},
   "outputs": [],
   "source": []
  },
  {
   "cell_type": "code",
   "execution_count": null,
   "metadata": {},
   "outputs": [],
   "source": []
  },
  {
   "cell_type": "code",
   "execution_count": null,
   "metadata": {},
   "outputs": [],
   "source": []
  },
  {
   "cell_type": "code",
   "execution_count": null,
   "metadata": {},
   "outputs": [],
   "source": []
  },
  {
   "cell_type": "code",
   "execution_count": null,
   "metadata": {},
   "outputs": [],
   "source": []
  },
  {
   "cell_type": "code",
   "execution_count": null,
   "metadata": {},
   "outputs": [],
   "source": []
  },
  {
   "cell_type": "code",
   "execution_count": null,
   "metadata": {},
   "outputs": [],
   "source": []
  },
  {
   "cell_type": "code",
   "execution_count": null,
   "metadata": {},
   "outputs": [],
   "source": []
  },
  {
   "cell_type": "code",
   "execution_count": null,
   "metadata": {},
   "outputs": [],
   "source": []
  },
  {
   "cell_type": "code",
   "execution_count": null,
   "metadata": {},
   "outputs": [],
   "source": []
  },
  {
   "cell_type": "code",
   "execution_count": null,
   "metadata": {},
   "outputs": [],
   "source": []
  },
  {
   "cell_type": "code",
   "execution_count": null,
   "metadata": {},
   "outputs": [],
   "source": []
  },
  {
   "cell_type": "code",
   "execution_count": null,
   "metadata": {},
   "outputs": [],
   "source": []
  },
  {
   "cell_type": "code",
   "execution_count": 33,
   "metadata": {},
   "outputs": [],
   "source": [
    "# Get bad performing industries over last 6 months\n",
    "# Get timedelta in days\n",
    "timedelta = np.array([w.days for w in (pd.Timestamp.now() - Returns.index)])\n",
    "# Extract returns of last 180 days\n",
    "R = Returns[timedelta<3]\n",
    "indus = pd.DataFrame(df_INFO.set_index('CODE')['INDUSTRY'])\n",
    "indus['AvgRet'] = R.mean(axis=0)\n",
    "# Get mean return by industry\n",
    "indus = indus.groupby('INDUSTRY').AvgRet.mean().sort_values()\n",
    "# Select industries with positive mean return\n",
    "to_keep = indus[indus > 0].index\n",
    "# Select companies to keep\n",
    "df_INFO = df_INFO[df_INFO.INDUSTRY.apply(lambda x: x in to_keep)]"
   ]
  },
  {
   "cell_type": "code",
   "execution_count": 34,
   "metadata": {},
   "outputs": [],
   "source": [
    "Returns = Returns.T.loc[df_INFO.CODE].T"
   ]
  },
  {
   "cell_type": "code",
   "execution_count": 35,
   "metadata": {},
   "outputs": [],
   "source": [
    "# Define period over which to estimate averages\n",
    "T_invest = 40 # number of days of the investment horizon\n",
    "timedelta = np.array([w.days for w in (pd.Timestamp.now() - Returns.index)])\n",
    "cov_mat = Returns[timedelta<3].cov()\n",
    "R = Returns[timedelta<3].values"
   ]
  },
  {
   "cell_type": "code",
   "execution_count": 36,
   "metadata": {},
   "outputs": [
    {
     "data": {
      "text/plain": [
       "Text(0, 0.5, '$E(r)$')"
      ]
     },
     "execution_count": 36,
     "metadata": {},
     "output_type": "execute_result"
    },
    {
     "data": {
      "image/png": "[encoded data removed]",
      "text/plain": [
       "<Figure size 432x288 with 1 Axes>"
      ]
     },
     "metadata": {
      "needs_background": "light"
     },
     "output_type": "display_data"
    }
   ],
   "source": [
    "# Get average return over last time\n",
    "mu = R.mean(axis=0)\n",
    "# Get variance over last time\n",
    "std = R.std(axis=0)\n",
    "plt.scatter(std,mu,s=1)\n",
    "plt.xlabel(r'$\\sigma$')\n",
    "plt.ylabel(r'$E(r)$')"
   ]
  },
  {
   "cell_type": "code",
   "execution_count": 37,
   "metadata": {},
   "outputs": [
    {
     "data": {
      "text/plain": [
       "(2, 104)"
      ]
     },
     "execution_count": 37,
     "metadata": {},
     "output_type": "execute_result"
    }
   ],
   "source": [
    "R.shape"
   ]
  },
  {
   "cell_type": "code",
   "execution_count": 38,
   "metadata": {},
   "outputs": [
    {
     "data": {
      "text/html": [
       "<div>\n",
       "<style scoped>\n",
       "    .dataframe tbody tr th:only-of-type {\n",
       "        vertical-align: middle;\n",
       "    }\n",
       "\n",
       "    .dataframe tbody tr th {\n",
       "        vertical-align: top;\n",
       "    }\n",
       "\n",
       "    .dataframe thead th {\n",
       "        text-align: right;\n",
       "    }\n",
       "</style>\n",
       "<table border=\"1\" class=\"dataframe\">\n",
       "  <thead>\n",
       "    <tr style=\"text-align: right;\">\n",
       "      <th></th>\n",
       "      <th>Weight</th>\n",
       "    </tr>\n",
       "    <tr>\n",
       "      <th>CODE</th>\n",
       "      <th></th>\n",
       "    </tr>\n",
       "  </thead>\n",
       "  <tbody>\n",
       "    <tr>\n",
       "      <th>BRBY-GB</th>\n",
       "      <td>0.009615</td>\n",
       "    </tr>\n",
       "    <tr>\n",
       "      <th>ADS-DE</th>\n",
       "      <td>0.009615</td>\n",
       "    </tr>\n",
       "    <tr>\n",
       "      <th>OR-FR</th>\n",
       "      <td>0.009615</td>\n",
       "    </tr>\n",
       "  </tbody>\n",
       "</table>\n",
       "</div>"
      ],
      "text/plain": [
       "           Weight\n",
       "CODE             \n",
       "BRBY-GB  0.009615\n",
       "ADS-DE   0.009615\n",
       "OR-FR    0.009615"
      ]
     },
     "execution_count": 38,
     "metadata": {},
     "output_type": "execute_result"
    }
   ],
   "source": [
    "# Define weights vector. Initialize at 1/600 for all \n",
    "omega = pd.DataFrame({'Weight':np.ones(R.shape[1])*(1/R.shape[1])},index=df_INFO.CODE[:R.shape[1]])\n",
    "omega.head(3)"
   ]
  },
  {
   "cell_type": "code",
   "execution_count": 39,
   "metadata": {},
   "outputs": [],
   "source": [
    "# Optimize function under constraints\n",
    "def sum_eq_1(w):\n",
    "    # The sum of the weights should be unity\n",
    "    return np.sum(w)-1\n",
    "\n",
    "def grade_func(w):\n",
    "    f = np.dot(w, mu) - 0.25*np.sqrt(np.dot(w.T,np.dot(cov_mat,w)))\n",
    "    # Return the negative value since we minimize\n",
    "    return -1*f\n",
    "\n",
    "# Extract omega start values from pandas df\n",
    "omega_arr = omega.values.reshape(-1)\n",
    "# Set bounds for weights to strictly positive\n",
    "cons = [{'type':'eq', 'fun': sum_eq_1}]\n",
    "result = minimize(grade_func, omega_arr,bounds=len(omega)*[(0,0.15)],constraints=cons)"
   ]
  },
  {
   "cell_type": "code",
   "execution_count": 40,
   "metadata": {},
   "outputs": [],
   "source": [
    "df_INFO['OptimalWeight'] = result.x\n",
    "df_INFO['OptimalWeight'] = df_INFO['OptimalWeight'].round(6)"
   ]
  },
  {
   "cell_type": "code",
   "execution_count": 41,
   "metadata": {},
   "outputs": [
    {
     "data": {
      "text/plain": [
       "<matplotlib.axes._subplots.AxesSubplot at 0x7f3da5e69550>"
      ]
     },
     "execution_count": 41,
     "metadata": {},
     "output_type": "execute_result"
    },
    {
     "data": {
      "image/png": "[encoded data removed]",
      "text/plain": [
       "<Figure size 432x288 with 1 Axes>"
      ]
     },
     "metadata": {
      "needs_background": "light"
     },
     "output_type": "display_data"
    }
   ],
   "source": [
    "df_INFO['OptimalWeight'].hist(bins=np.arange(0.01,0.15,0.01))"
   ]
  },
  {
   "cell_type": "code",
   "execution_count": 42,
   "metadata": {},
   "outputs": [
    {
     "data": {
      "text/plain": [
       "45"
      ]
     },
     "execution_count": 42,
     "metadata": {},
     "output_type": "execute_result"
    }
   ],
   "source": [
    "(np.round(result.x,80)>0).sum()"
   ]
  },
  {
   "cell_type": "code",
   "execution_count": 43,
   "metadata": {},
   "outputs": [
    {
     "data": {
      "text/html": [
       "<div>\n",
       "<style scoped>\n",
       "    .dataframe tbody tr th:only-of-type {\n",
       "        vertical-align: middle;\n",
       "    }\n",
       "\n",
       "    .dataframe tbody tr th {\n",
       "        vertical-align: top;\n",
       "    }\n",
       "\n",
       "    .dataframe thead th {\n",
       "        text-align: right;\n",
       "    }\n",
       "</style>\n",
       "<table border=\"1\" class=\"dataframe\">\n",
       "  <thead>\n",
       "    <tr style=\"text-align: right;\">\n",
       "      <th></th>\n",
       "      <th>CODE</th>\n",
       "      <th>COMPANY NAME</th>\n",
       "      <th>COUNTRY</th>\n",
       "      <th>INDUSTRY</th>\n",
       "      <th>OptimalWeight</th>\n",
       "    </tr>\n",
       "  </thead>\n",
       "  <tbody>\n",
       "    <tr>\n",
       "      <th>150</th>\n",
       "      <td>EVD-DE</td>\n",
       "      <td>CTS Eventim AG &amp; Co. KGaA</td>\n",
       "      <td>Germany</td>\n",
       "      <td>Movies/Entertainment</td>\n",
       "      <td>0.000000</td>\n",
       "    </tr>\n",
       "    <tr>\n",
       "      <th>145</th>\n",
       "      <td>PKN-PL</td>\n",
       "      <td>Polski Koncern Naftowy ORLEN S.A.</td>\n",
       "      <td>Poland</td>\n",
       "      <td>Oil Refining/Marketing</td>\n",
       "      <td>0.000000</td>\n",
       "    </tr>\n",
       "    <tr>\n",
       "      <th>160</th>\n",
       "      <td>LISN-CH</td>\n",
       "      <td>Chocoladefabriken Lindt &amp; Spruengli AG</td>\n",
       "      <td>Switzerland</td>\n",
       "      <td>Food: Specialty/Candy</td>\n",
       "      <td>0.000000</td>\n",
       "    </tr>\n",
       "    <tr>\n",
       "      <th>138</th>\n",
       "      <td>TEF-ES</td>\n",
       "      <td>Telefonica SA</td>\n",
       "      <td>Spain</td>\n",
       "      <td>Specialty Telecommunications</td>\n",
       "      <td>0.000000</td>\n",
       "    </tr>\n",
       "    <tr>\n",
       "      <th>107</th>\n",
       "      <td>BARN-CH</td>\n",
       "      <td>Barry Callebaut AG</td>\n",
       "      <td>Switzerland</td>\n",
       "      <td>Food: Specialty/Candy</td>\n",
       "      <td>0.000000</td>\n",
       "    </tr>\n",
       "    <tr>\n",
       "      <th>108</th>\n",
       "      <td>VOW3-DE</td>\n",
       "      <td>Volkswagen AG Pref</td>\n",
       "      <td>Germany</td>\n",
       "      <td>Motor Vehicles</td>\n",
       "      <td>0.000000</td>\n",
       "    </tr>\n",
       "    <tr>\n",
       "      <th>141</th>\n",
       "      <td>BMW-DE</td>\n",
       "      <td>Bayerische Motoren Werke AG</td>\n",
       "      <td>Germany</td>\n",
       "      <td>Motor Vehicles</td>\n",
       "      <td>0.000000</td>\n",
       "    </tr>\n",
       "    <tr>\n",
       "      <th>111</th>\n",
       "      <td>KER-FR</td>\n",
       "      <td>Kering SA</td>\n",
       "      <td>France</td>\n",
       "      <td>Apparel/Footwear</td>\n",
       "      <td>0.000000</td>\n",
       "    </tr>\n",
       "    <tr>\n",
       "      <th>112</th>\n",
       "      <td>DAI-DE</td>\n",
       "      <td>Daimler AG</td>\n",
       "      <td>Germany</td>\n",
       "      <td>Motor Vehicles</td>\n",
       "      <td>0.000000</td>\n",
       "    </tr>\n",
       "    <tr>\n",
       "      <th>134</th>\n",
       "      <td>ELISA-FI</td>\n",
       "      <td>Elisa Oyj Class A</td>\n",
       "      <td>Finland</td>\n",
       "      <td>Specialty Telecommunications</td>\n",
       "      <td>0.000000</td>\n",
       "    </tr>\n",
       "    <tr>\n",
       "      <th>594</th>\n",
       "      <td>ADE-NO</td>\n",
       "      <td>Adevinta ASA</td>\n",
       "      <td>Norway</td>\n",
       "      <td>Advertising/Marketing Services</td>\n",
       "      <td>0.000000</td>\n",
       "    </tr>\n",
       "    <tr>\n",
       "      <th>83</th>\n",
       "      <td>STERV-FI</td>\n",
       "      <td>Stora Enso Oyj Class R</td>\n",
       "      <td>Finland</td>\n",
       "      <td>Pulp &amp; Paper</td>\n",
       "      <td>0.047087</td>\n",
       "    </tr>\n",
       "    <tr>\n",
       "      <th>512</th>\n",
       "      <td>PNDORA-DK</td>\n",
       "      <td>Pandora A/S</td>\n",
       "      <td>Denmark</td>\n",
       "      <td>Other Consumer Specialties</td>\n",
       "      <td>0.055474</td>\n",
       "    </tr>\n",
       "    <tr>\n",
       "      <th>433</th>\n",
       "      <td>HEIO-NL</td>\n",
       "      <td>Heineken Holding N.V.</td>\n",
       "      <td>Netherlands</td>\n",
       "      <td>Beverages: Alcoholic</td>\n",
       "      <td>0.058857</td>\n",
       "    </tr>\n",
       "    <tr>\n",
       "      <th>198</th>\n",
       "      <td>UHR-CH</td>\n",
       "      <td>Swatch Group Ltd. Bearer</td>\n",
       "      <td>Switzerland</td>\n",
       "      <td>Other Consumer Specialties</td>\n",
       "      <td>0.088582</td>\n",
       "    </tr>\n",
       "    <tr>\n",
       "      <th>467</th>\n",
       "      <td>SESG-FR</td>\n",
       "      <td>SES SA FDR (Class A)</td>\n",
       "      <td>Luxembourg</td>\n",
       "      <td>Specialty Telecommunications</td>\n",
       "      <td>0.150000</td>\n",
       "    </tr>\n",
       "    <tr>\n",
       "      <th>36</th>\n",
       "      <td>EO-FR</td>\n",
       "      <td>Faurecia SA</td>\n",
       "      <td>France</td>\n",
       "      <td>Auto Parts: OEM</td>\n",
       "      <td>0.150000</td>\n",
       "    </tr>\n",
       "    <tr>\n",
       "      <th>35</th>\n",
       "      <td>PUB-FR</td>\n",
       "      <td>Publicis Groupe SA</td>\n",
       "      <td>France</td>\n",
       "      <td>Advertising/Marketing Services</td>\n",
       "      <td>0.150000</td>\n",
       "    </tr>\n",
       "    <tr>\n",
       "      <th>385</th>\n",
       "      <td>FR-FR</td>\n",
       "      <td>Valeo SA</td>\n",
       "      <td>France</td>\n",
       "      <td>Auto Parts: OEM</td>\n",
       "      <td>0.150000</td>\n",
       "    </tr>\n",
       "    <tr>\n",
       "      <th>567</th>\n",
       "      <td>1COV-DE</td>\n",
       "      <td>Covestro AG</td>\n",
       "      <td>Germany</td>\n",
       "      <td>Chemicals: Specialty</td>\n",
       "      <td>0.150000</td>\n",
       "    </tr>\n",
       "  </tbody>\n",
       "</table>\n",
       "</div>"
      ],
      "text/plain": [
       "          CODE                            COMPANY NAME      COUNTRY  \\\n",
       "150     EVD-DE               CTS Eventim AG & Co. KGaA      Germany   \n",
       "145     PKN-PL       Polski Koncern Naftowy ORLEN S.A.       Poland   \n",
       "160    LISN-CH  Chocoladefabriken Lindt & Spruengli AG  Switzerland   \n",
       "138     TEF-ES                           Telefonica SA        Spain   \n",
       "107    BARN-CH                      Barry Callebaut AG  Switzerland   \n",
       "108    VOW3-DE                      Volkswagen AG Pref      Germany   \n",
       "141     BMW-DE             Bayerische Motoren Werke AG      Germany   \n",
       "111     KER-FR                               Kering SA       France   \n",
       "112     DAI-DE                              Daimler AG      Germany   \n",
       "134   ELISA-FI                       Elisa Oyj Class A      Finland   \n",
       "594     ADE-NO                            Adevinta ASA       Norway   \n",
       "83    STERV-FI                  Stora Enso Oyj Class R      Finland   \n",
       "512  PNDORA-DK                             Pandora A/S      Denmark   \n",
       "433    HEIO-NL                   Heineken Holding N.V.  Netherlands   \n",
       "198     UHR-CH                Swatch Group Ltd. Bearer  Switzerland   \n",
       "467    SESG-FR                    SES SA FDR (Class A)   Luxembourg   \n",
       "36       EO-FR                             Faurecia SA       France   \n",
       "35      PUB-FR                      Publicis Groupe SA       France   \n",
       "385      FR-FR                                Valeo SA       France   \n",
       "567    1COV-DE                             Covestro AG      Germany   \n",
       "\n",
       "                           INDUSTRY  OptimalWeight  \n",
       "150            Movies/Entertainment       0.000000  \n",
       "145          Oil Refining/Marketing       0.000000  \n",
       "160           Food: Specialty/Candy       0.000000  \n",
       "138    Specialty Telecommunications       0.000000  \n",
       "107           Food: Specialty/Candy       0.000000  \n",
       "108                  Motor Vehicles       0.000000  \n",
       "141                  Motor Vehicles       0.000000  \n",
       "111                Apparel/Footwear       0.000000  \n",
       "112                  Motor Vehicles       0.000000  \n",
       "134    Specialty Telecommunications       0.000000  \n",
       "594  Advertising/Marketing Services       0.000000  \n",
       "83                     Pulp & Paper       0.047087  \n",
       "512      Other Consumer Specialties       0.055474  \n",
       "433            Beverages: Alcoholic       0.058857  \n",
       "198      Other Consumer Specialties       0.088582  \n",
       "467    Specialty Telecommunications       0.150000  \n",
       "36                  Auto Parts: OEM       0.150000  \n",
       "35   Advertising/Marketing Services       0.150000  \n",
       "385                 Auto Parts: OEM       0.150000  \n",
       "567            Chemicals: Specialty       0.150000  "
      ]
     },
     "execution_count": 43,
     "metadata": {},
     "output_type": "execute_result"
    }
   ],
   "source": [
    "df_INFO.sort_values(by='OptimalWeight').tail(20)"
   ]
  },
  {
   "cell_type": "code",
   "execution_count": 45,
   "metadata": {},
   "outputs": [
    {
     "data": {
      "text/plain": [
       "INDUSTRY\n",
       "Advertising/Marketing Services        0.050000\n",
       "Alternative Power Generation          0.000000\n",
       "Apparel/Footwear                      0.000000\n",
       "Auto Parts: OEM                       0.050000\n",
       "Automotive Aftermarket                0.000000\n",
       "Beverages: Alcoholic                  0.006540\n",
       "Chemicals: Major Diversified          0.000000\n",
       "Chemicals: Specialty                  0.015000\n",
       "Food: Specialty/Candy                 0.000000\n",
       "Household/Personal Care               0.000000\n",
       "Marine Shipping                       0.000000\n",
       "Media Conglomerates                   0.000000\n",
       "Metal Fabrication                     0.000000\n",
       "Motor Vehicles                        0.000000\n",
       "Movies/Entertainment                  0.000000\n",
       "Oil Refining/Marketing                0.000000\n",
       "Other Consumer Specialties            0.048019\n",
       "Personnel Services                    0.000000\n",
       "Pulp & Paper                          0.006727\n",
       "Specialty Telecommunications          0.021429\n",
       "Trucking                              0.000000\n",
       "Trucks/Construction/Farm Machinery    0.000000\n",
       "Name: OptimalWeight, dtype: float64"
      ]
     },
     "execution_count": 45,
     "metadata": {},
     "output_type": "execute_result"
    }
   ],
   "source": [
    "df_INFO.groupby('INDUSTRY').OptimalWeight.mean()"
   ]
  },
  {
   "cell_type": "code",
   "execution_count": 62,
   "metadata": {},
   "outputs": [
    {
     "data": {
      "text/html": [
       "<div>\n",
       "<style scoped>\n",
       "    .dataframe tbody tr th:only-of-type {\n",
       "        vertical-align: middle;\n",
       "    }\n",
       "\n",
       "    .dataframe tbody tr th {\n",
       "        vertical-align: top;\n",
       "    }\n",
       "\n",
       "    .dataframe thead th {\n",
       "        text-align: right;\n",
       "    }\n",
       "</style>\n",
       "<table border=\"1\" class=\"dataframe\">\n",
       "  <thead>\n",
       "    <tr style=\"text-align: right;\">\n",
       "      <th></th>\n",
       "      <th>CODE</th>\n",
       "      <th>COMPANY NAME</th>\n",
       "      <th>COUNTRY</th>\n",
       "      <th>INDUSTRY</th>\n",
       "    </tr>\n",
       "  </thead>\n",
       "  <tbody>\n",
       "    <tr>\n",
       "      <th>183</th>\n",
       "      <td>ADEN-CH</td>\n",
       "      <td>Adecco Group AG</td>\n",
       "      <td>Switzerland</td>\n",
       "      <td>Personnel Services</td>\n",
       "    </tr>\n",
       "    <tr>\n",
       "      <th>440</th>\n",
       "      <td>ADDT.B-SE</td>\n",
       "      <td>Addtech AB Class B</td>\n",
       "      <td>Sweden</td>\n",
       "      <td>Electronic Production Equipment</td>\n",
       "    </tr>\n",
       "    <tr>\n",
       "      <th>472</th>\n",
       "      <td>ADM-GB</td>\n",
       "      <td>Admiral Group plc</td>\n",
       "      <td>United Kingdom</td>\n",
       "      <td>Property/Casualty Insurance</td>\n",
       "    </tr>\n",
       "    <tr>\n",
       "      <th>587</th>\n",
       "      <td>ADYEN-NL</td>\n",
       "      <td>Adyen NV</td>\n",
       "      <td>Netherlands</td>\n",
       "      <td>Packaged Software</td>\n",
       "    </tr>\n",
       "    <tr>\n",
       "      <th>594</th>\n",
       "      <td>ADE-NO</td>\n",
       "      <td>Adevinta ASA</td>\n",
       "      <td>Norway</td>\n",
       "      <td>Advertising/Marketing Services</td>\n",
       "    </tr>\n",
       "  </tbody>\n",
       "</table>\n",
       "</div>"
      ],
      "text/plain": [
       "          CODE        COMPANY NAME         COUNTRY  \\\n",
       "183    ADEN-CH     Adecco Group AG     Switzerland   \n",
       "440  ADDT.B-SE  Addtech AB Class B          Sweden   \n",
       "472     ADM-GB   Admiral Group plc  United Kingdom   \n",
       "587   ADYEN-NL            Adyen NV     Netherlands   \n",
       "594     ADE-NO        Adevinta ASA          Norway   \n",
       "\n",
       "                            INDUSTRY  \n",
       "183               Personnel Services  \n",
       "440  Electronic Production Equipment  \n",
       "472      Property/Casualty Insurance  \n",
       "587                Packaged Software  \n",
       "594   Advertising/Marketing Services  "
      ]
     },
     "execution_count": 62,
     "metadata": {},
     "output_type": "execute_result"
    }
   ],
   "source": [
    "a=df_INFO['COMPANY NAME'].str.contains('Ad')\n",
    "df_INFO[a]"
   ]
  },
  {
   "cell_type": "code",
   "execution_count": null,
   "metadata": {},
   "outputs": [],
   "source": []
  }
 ],
 "metadata": {
  "kernelspec": {
   "display_name": "Python 3",
   "language": "python",
   "name": "python3"
  },
  "language_info": {
   "codemirror_mode": {
    "name": "ipython",
    "version": 3
   },
   "file_extension": ".py",
   "mimetype": "text/x-python",
   "name": "python",
   "nbconvert_exporter": "python",
   "pygments_lexer": "ipython3",
   "version": "3.7.4"
  }
 },
 "nbformat": 4,
 "nbformat_minor": 2
}
